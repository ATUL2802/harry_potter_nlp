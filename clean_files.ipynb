{
 "cells": [
  {
   "cell_type": "code",
   "execution_count": 716,
   "metadata": {},
   "outputs": [],
   "source": [
    "import pandas as pd\n",
    "import re\n",
    "from collections import defaultdict"
   ]
  },
  {
   "cell_type": "code",
   "execution_count": 568,
   "metadata": {},
   "outputs": [],
   "source": [
    "books = [\"data/Rowling, J.K. - HP 1 - Harry Potter and the Sorcerer's Stone.txt\",\n",
    "         \"data/Rowling, J.K. - HP 2 - Harry Potter and the Chamber of Secrets.txt\",\n",
    "         \"data/Rowling, J.K. - HP 3 - Harry Potter and the Prisoner of Azkaban.txt\",\n",
    "         \"data/Rowling, J.K. - HP 4 - Harry Potter and the Goblet of Fire.txt\",\n",
    "         \"data/Rowling, J.K. - HP 5 - Harry Potter and the Order of the Phoenix.txt\",\n",
    "         \"data/Rowling, J.K. - HP 6 - Harry Potter and the Half-Blood Prince.txt\",\n",
    "         \"data/Rowling, J.K. - HP 7 - Harry Potter and the Deathly Hallows.txt\"]"
   ]
  },
  {
   "cell_type": "code",
   "execution_count": 850,
   "metadata": {},
   "outputs": [
    {
     "name": "stdout",
     "output_type": "stream",
     "text": [
      "C H A P T E R O N E      THE BOY WHO LIVED\n",
      "C H A P T E R T W O      THE VANISHING GLASS\n",
      "C H A P T E R T H R E E      THE LETTERS FROM NO ONE\n",
      "C H A P T E R F O U R      THE KEEPER OF THE KEYS\n",
      "C H A P T E R F I V E      DIAGON ALLEY\n",
      "C H A P T E R S I X      THE JOURNEY FROM PLATFORM NINE AND THREE-QUARTERS\n",
      "C H A P T E R S E V E N      THE SORTING HAT\n",
      "C H A P T E R E I G H T      THE POTIONS MASTER\n",
      "C H A P T E R N I N E      THE MIDNIGHT DUEL\n",
      "C H A P T E R T E N      HALLOWEEN\n",
      "C H A P T E R E L E V E N      QUIDDITCH\n",
      "C H A P T E R T W E L V E      THE MIRROR OF ERISED\n",
      "C H A P T E R T H I R T E E N      NICHOLAS FLAMEL\n",
      "C H A P T E R F O U R T E E N      NORBERT THE NORWEGIAN RIDGEBACK\n",
      "C H A P T E R F I F T E E N      THE FORBIDDEN FOREST\n",
      "C H A P T E R S I X T E E N      THROUGH THE TRAPDOOR\n",
      "C H A P T E R S E V E N T E E N      THE MAN WITH TWO FACES\n",
      "\n",
      "C H A P T E R O N E      THE WORST BIRTHDAY\n",
      "C H A P T E R T W O      DOBBY'S WARNING\n",
      "C H A P T E R T H R E E      THE BURROW\n",
      "C H A P T E R F O U R      AT FLOURISH AND BLOTTS\n",
      "C H A P T E R F I V E      THE WHOMPING WILLOW\n",
      "C H A P T E R S I X      GILDEROY LOCKHART\n",
      "C H A P T E R S E V E N      MUDBLOODS AND MURMURS\n",
      "C H A P T E R E I G H T      THE DEATHDAY PARTY\n",
      "C H A P T E R N I N E      THE WRITING ON THE WALL\n",
      "C H A P T E R T E N      THE ROGUE BLUDGER\n",
      "C H A P T E R E L E V E N      THE DUELING CLUB\n",
      "C H A P T E R T W E L V E      THE POLYJUICE POTION\n",
      "C H A P T E R T H I R T E E N      THE VERY SECRET DIARY\n",
      "C H A P T E R F O U R T E E N      CORNELIUS FUDGE\n",
      "C H A P T E R F I F T E E N      ARAGOG\n",
      "C H A P T E R S I X T E E N      THE CHAMBER OF SECRETS\n",
      "C H A P T E R S E V E N T E E N      THE HEIR OF SLYTHERIN\n",
      "\n",
      "C H A P T E R O N E      OWL POST\n",
      "C H A P T E R T W O      AUNT MARGE'S BIG MISTAKE\n",
      "C H A P T E R T H R E E      THE KNIGHT BUS\n",
      "C H A P T E R F O U R      THE LEAKY CAULDRON\n",
      "C H A P T E R F I V E      THE DEMENTOR\n",
      "C H A P T E R S I X      TALONS AND TEA LEAVES\n",
      "C H A P T E R S E V E N      THE BOGGART IN THE WARDROBE\n",
      "C H A P T E R E I G H T      FLIGHT OF THE FAT LADY\n",
      "C H A P T E R N I N E      GRIM DEFEAT\n",
      "C H A P T E R T E N      THE MARAUDER'S MAP\n",
      "C H A P T E R E L E V E N      THE FIREBOLT\n",
      "C H A P T E R T W E L V E      THE PATRONUS\n",
      "C H A P T E R T H I R T E E N      GRYFFINDOR VERSUS RAVENCLAW\n",
      "C H A P T E R F O U R T E E N      SNAPE'S GRUDGE\n",
      "C H A P T E R F I F T E E N      THE QUIDDITCH FINAL\n",
      "C H A P T E R S I X T E E N      PROFESSOR TRELAWNEY'S PREDICTION\n",
      "C H A P T E R S E V E N T E E N      CAT, RAT, AND DOG\n",
      "C H A P T E R E I G H T E E N      MOONEY, WORMTAIL, PADFOOT, AND PRONGS\n",
      "C H A P T E R N I N E T E E N      THE SERVANT OF LORD VOLDEMORT\n",
      "C H A P T E R T W E N T Y      THE DEMENTOR'S KISS\n",
      "C H A P T E R T W E N T Y - ONE      HERMIONE'S SECRET\n",
      "C H A P T E R T W E N T Y - T W O      OWL POST AGAIN\n",
      "\n",
      "C H A P T E R O N E      THE RIDDLE HOUSE\n",
      "C H A P T E R T W O      THE SCAR\n",
      "C H A P T E R T H R E E      THE INVITATION\n",
      "C H A P T E R F O U R      BACK TO THE BURROW\n",
      "C H A P T E R F I V E      WEASLEYS' WIZARD WHEEZES\n",
      "C H A P T E R S I X      THE PORTKEY\n",
      "C H A P T E R S E V E N      BAGMAN AND CROUCH\n",
      "C H A P T E R E I G H T      THE QUIDDITCH WORLD CUP\n",
      "C H A P T E R N I N E      THE DARK MARK\n",
      "C H A P T E R T E N      MAYHEM AT THE MINISTRY\n",
      "C H A P T E R E L E V E N      ABOARD THE HOGWARTS EXPRESS\n",
      "C H A P T E R T W E L V E      THE TRIWIZARD TOURNAMENT\n",
      "C H A P T E R T H I R T E E N      MAD-EYE MOODY\n",
      "C H A P T E R F O U R T E E N      THE UNFORGIVABLE CURSES\n",
      "C H A P T E R F I F T E E N      BEAUXBATONS AND DURMSTRANG\n",
      "C H A P T E R S I X T E E N      THE GOBLET OF FIRE\n",
      "C H A P T E R S E V E N T E E N      THE FOUR CHAMPIONS\n",
      "C H A P T E R E I G H T E E N      THE WEIGHING OF THE WANDS\n",
      "C H A P T E R N I N E T E E N      THE HUNGARIAN HORNTAIL\n",
      "C H A P T E R T W E N T Y      THE FIRST TASK\n",
      "C H A P T E R T W E N T Y - O N E      THE HOUSE-ELF LIBERATION FRONT\n",
      "C H A P T E R T W E N T Y - T W O      THE UNEXPECTED TASK\n",
      "C H A P T E R T W E N T Y - T H R E E      THE YULE BALL\n",
      "C H A P T E R T W E N T Y - F O U R      RITA SKEETER'S SCOOP\n",
      "C H A P T E R T W E N T Y - F I V E      THE EGG AND THE EYE\n",
      "C H A P T E R T W E N T Y - S I X      THE SECOND TASK\n",
      "C H A P T E R T W E N T Y - S E V E N      PADFOOT RETURNS\n",
      "C H A P T E R T W E N T Y - E I G H T      THE MADNESS OF MR. CROUCH\n",
      "C H A P T E R T W E N T Y - N I N E      THE DREAM\n",
      "C H A P T E R T H I R T Y      THE PENSIEVE\n",
      "C H A P T E R T H I R T Y - O N E      THE THIRD TASK\n",
      "C H A P T E R T H I R T Y - T W O      FLESH, BLOOD, AND BONE\n",
      "C H A P T E R T H I R T Y - T H R E E      THE DEATH EATERS\n",
      "C H A P T E R T H I R T Y - F O U R      PRIORI INCANTATEM\n",
      "C H A P T E R T H I R T Y - F I V E      VERITASERUM\n",
      "C H A P T E R T H I R T Y - S I X      THE PARTING OF THE WAYS\n",
      "\n",
      "C H A P T E R O N E      DUDLEY DEMENTED\n",
      "C H A P T E R T W O      A PECK OF OWLS\n",
      "C H A P T E R  T  H  R  E  E      THE ADVANCED GUARD\n",
      "C H A P T E R F O U R      NUMBER TWELVE, GRIMMAULD PLACE\n",
      "C H A P T E R F I V E      THE ORDER OF THE PHOENIX\n",
      "C H A P T E R S I X      THE NOBLE AND MOST ANCIENT HOUSE OF BLACK\n",
      "C H A P T E R S E V E N      THE MINISTRY OF MAGIC\n",
      "C H A P T E R E I G H T      THE HEARING\n",
      "C H A P T E R N I N E      THE WOES OF MRS. WEASLEY\n",
      "C H A P T E R T E N      LUNA LOVEGOOD\n",
      "C H A P T E R E L E V E N      THE SORTING HAT'S NEW SONG\n",
      "C H A P T E R T W E L V E      PROFESSOR UMBRIDGE\n",
      "C H A P T E R T H I R T E E N      DETENTION WITH DOLORES\n",
      "C H A P T E R F O U R T E E N      PERCY AND PADFOOT\n",
      "C H A P T E R F I F T E E N      THE HOGWARTS HIGH INQUISITOR\n",
      "C H A P T E R S I X T E E N      IN THE HOG'S HEAD\n",
      "C H A P T E R S E V E N T E E N      EDUCATIONAL DECREE NUMBER TWENTY-FOUR\n",
      "C H A P T E R E I G H T E E N      DUMBLEDORE'S ARMY\n",
      "C H A P T E R N I N E T E E N      THE LION AND THE SERPENT\n",
      "C H A P T E R T W E N T Y      HAGRID'S TALE\n",
      "C H A P T E R T W E N T Y - O N E      THE EYE OF THE SNAKE\n",
      "C H A P T E R T W E N T Y - T W O      ST. MUNGO'S HOSPITAL FOR MAGICAL MALADIES AND INJURIES\n",
      "C H A P T E R T W E N T Y - T H R E E      CHRISTMAS ON THE CLOSED WARD\n",
      "C H A P T E R T W E N T Y - F I V E      THE BEETLE AT BAY\n",
      "C H A P T E R T W E N T Y - S I X      SEEN AND UNFORESEEN\n",
      "C H A P T E R T W E N T Y - S E V E N      THE CENTAUR AND THE SNEAK\n",
      "C H A P T E R T W E N T Y - E I G H T      SNAPE'S WORST MEMORY\n",
      "C H A P T E R T W E N T Y - N I N E      CAREER ADVICE\n",
      "C H A P T E R T H I R T Y      GRAWP\n",
      "C H A P T E R T H I R T Y - O N E      O.W.L.S\n",
      "C H A P T E R T H I R T Y - T W O      OUT OF THE FIRE\n",
      "C H A P T E R T H I R T Y - T H R E E      FIGHT AND FLIGHT\n",
      "C H A P T E R T H I R T Y - F O U R      THE DEPARTMENT OF MYSTERIES\n",
      "C H A P T E R T H I R T Y - F I V E      BEYOND THE VEIL\n",
      "C H A P T E R T H I R T Y - S I X      THE ONLY ONE HE EVER FEARED\n",
      "C H A P T E R T H I R T Y - S E V E N      THE LOST PROPHECY\n",
      "\n",
      "C H A P T E R O N E      THE OTHER MINISTER\n",
      "C H A P T E R T W O      SPINNER'S END\n",
      "C H A P T E R T H R E E      WILL AND WON'T\n",
      "C H A P T E R F O U R      HORACE SLUGHORN\n",
      "C H A P T E R F I V E      AN EXCESS OF PHLEGM\n",
      "C H A P T E R S I X      DRACO'S DETOUR\n",
      "C H A P T E R S E V E N      THE SLUG CLUB\n",
      "C H A P T E R E I G H T      SNAPE VICTORIOUS\n",
      "C H A P T E R N I N E      THE HALF-BLOOD PRINCE\n",
      "C H A P T E R T E N      THE HOUSE OF GAUNT\n",
      "C H A P T E R E L E V E N      HERMIONE'S HELPING HAND\n",
      "C H A P T E R T W E L V E      SILVER AND OPALS\n",
      "C H A P T E R T H I R T E E N      THE SECRET RIDDLE\n",
      "C H A P T E R F O U R T E E N      FELIX FELICIS\n",
      "C H A P T E R F I F T E E N      THE UNBREAKABLE VOW\n",
      "C H A P T E R S I X T E E N      A VERY FROSTY CHRISTMAS\n",
      "C H A P T E R S E V E N T E E N      A SLUGGISH MEMORY\n",
      "C H A P T E R E I G H T E E N      BIRTHDAY SURPRISES\n",
      "C H A P T E R N I N E T E E N      ELF TAILS\n",
      "C H A P T E R T W E N T Y      LORD VOLDEMORT'S REQUEST\n",
      "C H A P T E R T W E N T Y - O N E      THE UNKNOWABLE ROOM\n",
      "C H A P T E R T W E N T Y - T W O      AFTER THE BURIAL\n",
      "C H A P T E R T W E N T Y - T H R E E      HORCRUXES\n",
      "C H A P T E R T W E N T Y - F O U R      SECTUMSEMPRA\n",
      "C H A P T E R T W E N T Y - F I V E      THE SEER OVERHEARD\n",
      "C H A P T E R T W E N T Y - S I X      THE CAVE\n",
      "C H A P T E R T W E N T Y - S E V E N      THE LIGHTNINGSTRUCK TOWER\n",
      "C H A P T E R T W E N T Y - E I G H T      FLIGHT OF THE PRINCE\n",
      "C H A P T E R T W E N T Y - N I N E      THE PHOENIX LAMENT\n",
      "\n",
      "C H A P T E R O N E      THE DARK LORD ASCENDING\n",
      "C H A P T E R T W O      IN MEMORIAM\n",
      "C H A P T E R T H R E E      THE DURSLEYS DEPARTING\n",
      "C H A P T E R F O U R      THE SEVEN POTTERS\n",
      "C H A P T E R F I V E      FALLEN WARRIOR\n",
      "C H A P T E R S I X      THE GHOUL IN PAJAMAS\n",
      "C H A P T E R S E V E N      THE WILL OF ALBUS DUMBLEDORE\n",
      "C H A P T E R E I G H T      THE WEDDING\n",
      "C H A P T E R N I N E      A PLACE TO HIDE\n",
      "C H A P T E R T E N      KREACHER'S TALE\n",
      "C H A P T E R E L E V E N      THE BRIBE\n",
      "C H A P T E R T W E L V E      MAGIC IS MIGHT\n",
      "C H A P T E R T H I R T E E N      THE MUGGLE-BORN REGISTRATION COMMISSION\n",
      "C H A P T E R F O U R T E E N      THE THIEF\n",
      "C H A P T E R F I F T E E N      THE GOBLIN'S REVENGE\n",
      "C H A P T E R S I X T E E N      GODRIC'S HOLLOW\n",
      "C H A P T E R S E V E N T E E N      BATHILDA'S SECRET\n",
      "C H A P T E R E I G H T E E N      THE LIFE AND LIES OF ALBUS DUMBLEDORE\n",
      "C H A P T E R N I N E T E E N      THE SILVER DOE\n",
      "C H A P T E R T W E N T Y      XENOPHILIUS LOVEGOOD\n",
      "C H A P T E R T W E N T Y - O N E      THE TALE OF THE THREE BROTHERS\n",
      "C H A P T E R T W E N T Y - T W O      THE DEATHLY HALLOWS\n",
      "C H A P T E R T W E N T Y - T H R E E      MALFOY MANOR\n",
      "C H A P T E R T W E N T Y - F O U R      THE WANDMAKER\n",
      "C H A P T E R T W E N T Y - F I V E      SHELL COTTAGE\n",
      "C H A P T E R T W E N T Y - S I X      GRINGOTTS\n",
      "C H A P T E R T W E N T Y - S E V E N      THE FINAL HIDING PLACE\n",
      "C H A P T E R T W E N T Y - E I G H T      THE MISSING MIRROR\n",
      "C H A P T E R T W E N T Y - N I N E      THE LOST DIADEM\n",
      "C H A P T E R T H I R T Y      THE SACKING OF SEVERUS SNAPE\n",
      "C H A P T E R T H I R T Y - O N E      THE BATTLE OF HOGWARTS\n",
      "C H A P T E R T H I R T Y - T W O      THE ELDER WAND\n",
      "C H A P T E R T H I R T Y - T H R E E      THE PRINCE'S TALE\n",
      "C H A P T E R T H I R T Y - F O U R      THE FOREST AGAIN\n",
      "C H A P T E R T H I R T Y - F I V E      KING'S CROSS\n",
      "\n"
     ]
    }
   ],
   "source": [
    "pattern = \"(C H A P T E R [A-Z -]+)\\n+([A-Z \\n',.-]+)\\\\b(?![A-Z]+(?=\\.)\\\\b)(?![a-z']|[A-Z.])(.*?)(?=C H A P T E R|This book)\"\n",
    "hp = defaultdict(dict)\n",
    "cnt = 0\n",
    "for book in books:\n",
    "    cnt += 1\n",
    "    title = 'hp' + str(cnt)\n",
    "    with open(book, 'r') as f:\n",
    "        text = f.read().replace('&rsquo;',\"'\")\n",
    "    chapters = re.findall(pattern, text, re.DOTALL)\n",
    "    chap = 0\n",
    "    for chapter in chapters:\n",
    "        chap += 1\n",
    "        chap_title = chapter[1].replace('\\n','')\n",
    "        chap_text = (chapter[2][1:].replace('&ldquo;', '\"')\n",
    "                                   .replace('&rdquo;', '\"')\n",
    "                                   .replace('&mdash;', '—'))\n",
    "        chap_text = re.sub('\\n*&bull; [0-9]+ &bull; \\n*' + chap_title + ' \\n*', '', chap_text)\n",
    "        chap_text = re.sub('\\n*&bull; [0-9]+ &bull; \\n*CHAPTER [A-Z]+ \\n*', '', chap_text)\n",
    "        chap_text = re.sub('\\n+', '\\n', chap_text)\n",
    "        hp[title]['Chapter ' + str(chap)] = (chap_title, chap_text)\n",
    "        print('{}     {}'.format(chapter[0], chapter[1].replace('\\n','')))\n",
    "    print()\n",
    "hp = dict(hp)"
   ]
  },
  {
   "cell_type": "code",
   "execution_count": 917,
   "metadata": {},
   "outputs": [
    {
     "name": "stdout",
     "output_type": "stream",
     "text": [
      "79715 words in hp1\n",
      "83639 words in hp2\n",
      "111830 words in hp3\n",
      "194646 words in hp4\n",
      "252144 words in hp5\n",
      "169613 words in hp6\n",
      "194851 words in hp7\n"
     ]
    }
   ],
   "source": [
    "# Word Count\n",
    "for book in hp:\n",
    "    print('{} words in {}'.format(sum(len(hp[book][chapter][1].split()) for chapter in hp[book]), book))"
   ]
  },
  {
   "cell_type": "code",
   "execution_count": 939,
   "metadata": {},
   "outputs": [
    {
     "name": "stdout",
     "output_type": "stream",
     "text": [
      "5.55 Average word length in hp1\n",
      "5.64 Average word length in hp2\n",
      "5.65 Average word length in hp3\n",
      "5.61 Average word length in hp4\n",
      "5.65 Average word length in hp5\n",
      "5.67 Average word length in hp6\n",
      "5.66 Average word length in hp7\n"
     ]
    }
   ],
   "source": [
    "# Average word length\n",
    "for book in hp:\n",
    "    text = ''\n",
    "    for chapter in hp[book]:\n",
    "        text = text + hp[book][chapter][1]\n",
    "    print('{:.2f} Average word length in {}'.format(len(text) / len(text.split()), book))"
   ]
  },
  {
   "cell_type": "code",
   "execution_count": 885,
   "metadata": {},
   "outputs": [
    {
     "data": {
      "text/plain": [
       "{'1': {'1': 'adsf', '2': 'fdas'}, '2': {'1': 'qwer', '2': 'gfsd'}}"
      ]
     },
     "execution_count": 885,
     "metadata": {},
     "output_type": "execute_result"
    }
   ],
   "source": [
    "temp"
   ]
  },
  {
   "cell_type": "code",
   "execution_count": 887,
   "metadata": {},
   "outputs": [
    {
     "name": "stdout",
     "output_type": "stream",
     "text": [
      "{'1': 'adsf', '2': 'fdas'}\n",
      "{'1': 'qwer', '2': 'gfsd'}\n"
     ]
    }
   ],
   "source": [
    "for num in temp:\n",
    "    print(temp[num])"
   ]
  },
  {
   "cell_type": "code",
   "execution_count": 888,
   "metadata": {},
   "outputs": [
    {
     "data": {
      "text/plain": [
       "{'1': 'adsf', '2': 'fdas'}"
      ]
     },
     "execution_count": 888,
     "metadata": {},
     "output_type": "execute_result"
    }
   ],
   "source": [
    "temp['1']"
   ]
  },
  {
   "cell_type": "code",
   "execution_count": 897,
   "metadata": {},
   "outputs": [
    {
     "name": "stdout",
     "output_type": "stream",
     "text": [
      "2.0\n",
      "2.0\n"
     ]
    }
   ],
   "source": [
    "for item in temp['1']:\n",
    "    print(len(temp['1'][item]) / len(temp['1']))"
   ]
  },
  {
   "cell_type": "code",
   "execution_count": 909,
   "metadata": {},
   "outputs": [
    {
     "name": "stdout",
     "output_type": "stream",
     "text": [
      "5.499364944961897\n",
      "5.487990957897711\n",
      "5.511692230324365\n",
      "5.359580052493438\n",
      "5.617664581471552\n",
      "5.517761033369214\n",
      "5.5927232635060635\n",
      "5.595633756924079\n",
      "5.668203688853247\n",
      "5.598057354301573\n",
      "5.635349383440986\n",
      "5.524528301886792\n",
      "5.659882824545174\n",
      "5.572506286672255\n",
      "5.609327217125382\n",
      "5.5440095966411755\n",
      "5.44056183624529\n"
     ]
    }
   ],
   "source": [
    "for chapter in hp['hp1']:\n",
    "    print(len(hp['hp1'][chapter][1]) / len(hp['hp1'][chapter][1].split()))"
   ]
  },
  {
   "cell_type": "code",
   "execution_count": null,
   "metadata": {},
   "outputs": [],
   "source": []
  }
 ],
 "metadata": {
  "kernelspec": {
   "display_name": "Python 3",
   "language": "python",
   "name": "python3"
  },
  "language_info": {
   "codemirror_mode": {
    "name": "ipython",
    "version": 3
   },
   "file_extension": ".py",
   "mimetype": "text/x-python",
   "name": "python",
   "nbconvert_exporter": "python",
   "pygments_lexer": "ipython3",
   "version": "3.6.4"
  }
 },
 "nbformat": 4,
 "nbformat_minor": 2
}
