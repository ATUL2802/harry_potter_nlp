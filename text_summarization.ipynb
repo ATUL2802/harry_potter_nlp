{
 "cells": [
  {
   "cell_type": "code",
   "execution_count": 1,
   "metadata": {},
   "outputs": [],
   "source": [
    "import re\n",
    "from collections import defaultdict\n",
    "\n",
    "from __future__ import absolute_import\n",
    "from __future__ import division, print_function, unicode_literals\n",
    " \n",
    "from sumy.parsers.html import HtmlParser\n",
    "from sumy.parsers.plaintext import PlaintextParser\n",
    "from sumy.nlp.tokenizers import Tokenizer\n",
    "from sumy.summarizers.lsa import LsaSummarizer\n",
    "from sumy.nlp.stemmers import Stemmer\n",
    "from sumy.utils import get_stop_words\n",
    " \n",
    "from sumy.summarizers.luhn import LuhnSummarizer\n",
    "from sumy.summarizers.edmundson import EdmundsonSummarizer"
   ]
  },
  {
   "cell_type": "code",
   "execution_count": 2,
   "metadata": {},
   "outputs": [],
   "source": [
    "books = [\"data/Rowling, J.K. - HP 1 - Harry Potter and the Sorcerer's Stone.txt\",\n",
    "         \"data/Rowling, J.K. - HP 2 - Harry Potter and the Chamber of Secrets.txt\",\n",
    "         \"data/Rowling, J.K. - HP 3 - Harry Potter and the Prisoner of Azkaban.txt\",\n",
    "         \"data/Rowling, J.K. - HP 4 - Harry Potter and the Goblet of Fire.txt\",\n",
    "         \"data/Rowling, J.K. - HP 5 - Harry Potter and the Order of the Phoenix.txt\",\n",
    "         \"data/Rowling, J.K. - HP 6 - Harry Potter and the Half-Blood Prince.txt\",\n",
    "         \"data/Rowling, J.K. - HP 7 - Harry Potter and the Deathly Hallows.txt\"]"
   ]
  },
  {
   "cell_type": "code",
   "execution_count": 23,
   "metadata": {},
   "outputs": [],
   "source": [
    "pattern = (\"(C H A P T E R [A-Z -]+)\" +                  # Group 1 selects the chapter number\n",
    "           \"\\n+([A-Z \\n',.-]+)\\\\b(?![A-Z]+(?=\\.)\\\\b)\" +  # Group 2 selects the chapter title but excludes edgs of all caps word beginning first sentence of the chapter\n",
    "           \"(?![a-z']|[A-Z.])\" +                         # chapter title ends with lowercase letters or a period\n",
    "           \"(.*?)\" +                                     # Group 3 selects the chapter contents\n",
    "           \"(?=C H A P T E R|This book)\")                # chapter contents ends with a new chapter or the end of book\n",
    "hp = defaultdict(dict)\n",
    "cnt = 0\n",
    "for book in books:\n",
    "    cnt += 1\n",
    "    title = 'hp' + str(cnt)\n",
    "    with open(book, 'r') as f:\n",
    "        text = f.read().replace('&rsquo;',\"'\")\n",
    "    chapters = re.findall(pattern, text, re.DOTALL)\n",
    "    chap = 0\n",
    "    for chapter in chapters:\n",
    "        chap += 1\n",
    "        chap_title = chapter[1].replace('\\n','')\n",
    "        chap_text = (chapter[2][3:].replace('&ldquo;', '\"')\n",
    "                                   .replace('&rdquo;', '\"')\n",
    "                                   .replace('&mdash;', '—'))\n",
    "        chap_text = re.sub('\\n*&bull; [0-9]+ &bull; \\n*' + chap_title + ' \\n*', '', chap_text, flags=re.IGNORECASE)\n",
    "        chap_text = re.sub('\\n*&bull; [0-9]+ &bull; \\s*CHAPTER [A-Z]+ \\s*', '', chap_text)\n",
    "        chap_text = re.sub(' \\n&bull; [0-9]+ &bull; \\n*', '', chap_text)\n",
    "        chap_text = re.sub('\\n+', '\\n', chap_text)\n",
    "        hp[title]['Chapter ' + str(chap)] = (chap_title, chap_text)\n",
    "hp = dict(hp)"
   ]
  },
  {
   "cell_type": "markdown",
   "metadata": {},
   "source": [
    "### The format of the Harry Potter hp dictionary is as follows:\n",
    "#### The first book is 'hp1', second is 'hp2', etc.\n",
    "&nbsp;   \n",
    "{'hp1': {  \n",
    "         &nbsp;&nbsp;&nbsp;&nbsp;&nbsp;&nbsp;&nbsp;&nbsp;&nbsp;&nbsp;&nbsp; 'Chapter 1': (chapter title, chapter text),  \n",
    "         &nbsp;&nbsp;&nbsp;&nbsp;&nbsp;&nbsp;&nbsp;&nbsp;&nbsp;&nbsp;&nbsp; 'Chapter 2': (chapter title, chapter text),  \n",
    "         &nbsp;&nbsp;&nbsp;&nbsp;&nbsp;&nbsp;&nbsp;&nbsp;&nbsp;&nbsp;&nbsp; 'Chapter 3': (chapter title, chapter text),  \n",
    "         &nbsp;&nbsp;&nbsp;&nbsp;&nbsp;&nbsp;&nbsp;&nbsp;&nbsp;&nbsp;&nbsp; ...  \n",
    "         &nbsp;&nbsp;&nbsp;&nbsp;&nbsp;&nbsp;&nbsp;&nbsp;&nbsp;&nbsp;&nbsp; }  \n",
    " 'hp2': {  \n",
    "         &nbsp;&nbsp;&nbsp;&nbsp;&nbsp;&nbsp;&nbsp;&nbsp;&nbsp;&nbsp;&nbsp; 'Chapter 1': (chapter title, chapter text),  \n",
    "         &nbsp;&nbsp;&nbsp;&nbsp;&nbsp;&nbsp;&nbsp;&nbsp;&nbsp;&nbsp;&nbsp; ...  \n",
    "         &nbsp;&nbsp;&nbsp;&nbsp;&nbsp;&nbsp;&nbsp;&nbsp;&nbsp; }  \n",
    " &nbsp;...  \n",
    "}  "
   ]
  },
  {
   "cell_type": "code",
   "execution_count": null,
   "metadata": {},
   "outputs": [],
   "source": []
  },
  {
   "cell_type": "code",
   "execution_count": null,
   "metadata": {},
   "outputs": [],
   "source": []
  },
  {
   "cell_type": "code",
   "execution_count": 24,
   "metadata": {},
   "outputs": [],
   "source": [
    "language = \"english\"\n",
    "sentence_count = 5\n",
    " \n",
    "parser = PlaintextParser(hp['hp1']['Chapter 1'][1], Tokenizer(language))"
   ]
  },
  {
   "cell_type": "code",
   "execution_count": 25,
   "metadata": {},
   "outputs": [
    {
     "name": "stdout",
     "output_type": "stream",
     "text": [
      "\"The Potters, that's right, that's what I heard —\" \"— yes, their son, Harry —\" Mr. Dursley stopped dead.\n",
      "Twelve times he clicked the Put-Outer, until the only lights left on the whole street were two tiny pinpricks in the distance, which were the eyes of the cat watching him.\n",
      "Dumbledore slipped the Put-Outer back inside his cloak and set off down the street toward number four, where he sat down on the wall next to the cat.\n",
      "\"But I c-c-can't stand it — Lily an' James dead — an' poor little Harry off ter live with Muggles —\" \"Yes, yes, it's all very sad, but get a grip on yourself, Hagrid, or we'll be found,\" Professor McGonagall whispered, patting Hagrid gingerly on the arm as Dumbledore stepped over the low garden wall and walked to the front door.\n",
      "Dumbledore turned and walked back down the street.\n"
     ]
    }
   ],
   "source": [
    "from sumy.summarizers.lex_rank import LexRankSummarizer \n",
    "summarizer = LexRankSummarizer(Stemmer(language))\n",
    "summarizer.stop_words = get_stop_words(language)\n",
    "#Summarize the document with 2 sentences\n",
    "summary = summarizer(parser.document, sentence_count) \n",
    "for sentence in summary:\n",
    "    print(sentence)"
   ]
  },
  {
   "cell_type": "code",
   "execution_count": 26,
   "metadata": {},
   "outputs": [
    {
     "name": "stdout",
     "output_type": "stream",
     "text": [
      "It was now reading the sign that said Privet Drive — no, looking at the sign; cats couldn't read maps or signs.\n",
      "He didn't see the owls swoop- ing past in broad daylight, though people down in the street did; they pointed and gazed open-mouthed as owl after owl sped overhead.\n",
      "No one knows why, or how, but they're saying that when he couldn't kill Harry Potter, Voldemort's power somehow broke — and that's why he's gone.\"\n",
      "\"But I c-c-can't stand it — Lily an' James dead — an' poor little Harry off ter live with Muggles —\" \"Yes, yes, it's all very sad, but get a grip on yourself, Hagrid, or we'll be found,\" Professor McGonagall whispered, patting Hagrid gingerly on the arm as Dumbledore stepped over the low garden wall and walked to the front door.\n",
      "G'night, Professor McGonagall — Professor Dumbledore, sir.\"\n"
     ]
    }
   ],
   "source": [
    "from sumy.summarizers.luhn import LuhnSummarizer\n",
    "summarizer_1 = LuhnSummarizer(Stemmer(language))\n",
    "summarizer_1.stop_words = get_stop_words(language)\n",
    "summary_1 = summarizer_1(parser.document, sentence_count)\n",
    "for sentence in summary_1:\n",
    "    print(sentence)"
   ]
  },
  {
   "cell_type": "code",
   "execution_count": 27,
   "metadata": {},
   "outputs": [
    {
     "name": "stdout",
     "output_type": "stream",
     "text": [
      "He dashed back across the road, hurried up to his office, snapped at his secretary not to disturb him, seized his telephone, and had almost finished dialing his home number when he changed his mind.\n",
      "It seemed that Professor McGonagall had reached the point she was most anxious to discuss, the real reason she had been waiting on a cold, hard wall all day, for neither as a cat nor as a woman had she fixed Dumbledore with such a piercing stare as she did now.\n",
      "He looked simply too big to be allowed, and so wild — long tangles of bushy black hair and beard hid most of his face, he had hands the size of trash can lids, and his feet in their leather boots were like baby dolphins.\n",
      "For a full minute the three of them stood and looked at the little bundle; Hagrid's shoulders shook, Professor McGonagall blinked furiously, and the twinkling light that usually shone from Dumbledore's eyes seemed to have gone out.\n",
      "A breeze ruffled the neat hedges of Privet Drive, which lay silent and tidy under the inky sky, the very last place you would expect astonishing things to happen.\n"
     ]
    }
   ],
   "source": [
    "from sumy.summarizers.lsa import LsaSummarizer\n",
    "summarizer_2 = LsaSummarizer(Stemmer(language))\n",
    "summarizer_2.stop_words = get_stop_words(language)\n",
    "summary_2 = summarizer_2(parser.document, sentence_count)\n",
    "for sentence in summary_2:\n",
    "    print(sentence)"
   ]
  },
  {
   "cell_type": "code",
   "execution_count": 28,
   "metadata": {},
   "outputs": [
    {
     "name": "stdout",
     "output_type": "stream",
     "text": [
      "Mr. and Mrs. Dursley, of number four, Privet Drive, were proud to say that they were perfectly normal, thank you very much.\n",
      "They were the last people you'd expect to be involved in anything strange or mysterious, because they just didn't hold with such nonsense.\n",
      "Mr. Dursley was the director of a firm called Grunnings, which made drills.\n",
      "He was a big, beefy man with hardly any neck, although he did have a very large mustache.\n",
      "Mrs. Dursley was thin and blonde and had nearly twice the usual amount of neck, which came in very useful as she spent so much of her time craning over garden fences, spying on the neighbors.\n"
     ]
    },
    {
     "name": "stderr",
     "output_type": "stream",
     "text": [
      "/anaconda3/lib/python3.6/site-packages/sumy/summarizers/text_rank.py:68: RuntimeWarning: invalid value encountered in true_divide\n",
      "  weights /= weights.sum(axis=1)[:, numpy.newaxis]\n"
     ]
    }
   ],
   "source": [
    "from sumy.summarizers.text_rank import TextRankSummarizer\n",
    "summarizer_3 = TextRankSummarizer(Stemmer(language))\n",
    "summarizer_3.stop_words = get_stop_words(language)\n",
    "summary_3 = summarizer_3(parser.document, sentence_count)\n",
    "for sentence in summary_3:\n",
    "    print(sentence)"
   ]
  },
  {
   "cell_type": "code",
   "execution_count": 29,
   "metadata": {},
   "outputs": [
    {
     "name": "stdout",
     "output_type": "stream",
     "text": [
      "The Dursleys shuddered to think what the neighbors would say if the Potters arrived in the street.\n",
      "When Dudley had been put to bed, he went into the living room in time to catch the last report on the evening news: \"And finally, bird-watchers everywhere have reported that the nation's owls have been behaving very unusually today.\n",
      "Twelve times he clicked the Put-Outer, until the only lights left on the whole street were two tiny pinpricks in the distance, which were the eyes of the cat watching him.\n",
      "Dumbledore slipped the Put-Outer back inside his cloak and set off down the street toward number four, where he sat down on the wall next to the cat.\n",
      "He couldn't know that at this very moment, people meeting in secret all over the country were holding up their glasses and saying in hushed voices: \"To Harry Potter — the boy who lived!\"\n"
     ]
    }
   ],
   "source": [
    "from sumy.summarizers.edmundson import EdmundsonSummarizer\n",
    "summarizer_4 = EdmundsonSummarizer(Stemmer(language))\n",
    "summarizer_4.stop_words = get_stop_words(language)\n",
    "summarizer_4.bonus_words = hp['hp1']['Chapter 1'][0].split()\n",
    "summarizer_4.stigma_words = ['zdfgthdvndadv']\n",
    "summarizer_4.null_words = ['zdfgthdvndadv']\n",
    "summary_4 = summarizer_4(parser.document, sentence_count)\n",
    "for sentence in summary_4:\n",
    "    print(sentence)"
   ]
  },
  {
   "cell_type": "code",
   "execution_count": 30,
   "metadata": {},
   "outputs": [
    {
     "name": "stdout",
     "output_type": "stream",
     "text": [
      "Mr. and Mrs. Dursley, of number four, Privet Drive, were proud to say that they were perfectly normal, thank you very much.\n",
      "They were the last people you'd expect to be involved in anything strange or mysterious, because they just didn't hold with such nonsense.\n",
      "Mr. Dursley was the director of a firm called Grunnings, which made drills.\n",
      "He was a big, beefy man with hardly any neck, although he did have a very large mustache.\n",
      "He couldn't know that at this very moment, people meeting in secret all over the country were holding up their glasses and saying in hushed voices: \"To Harry Potter — the boy who lived!\"\n"
     ]
    }
   ],
   "source": [
    "from sumy.summarizers.edmundson import EdmundsonSummarizer\n",
    "summarizer_4 = EdmundsonSummarizer(Stemmer(language))\n",
    "summarizer_4.stop_words = get_stop_words(language)\n",
    "summarizer_4.bonus_words = ['zdfgthdvndadv']#hp['hp1']['Chapter 1'][0].split()\n",
    "summarizer_4.stigma_words = ['zdfgthdvndadv']\n",
    "summarizer_4.null_words = ['zdfgthdvndadv']\n",
    "summary_4 = summarizer_4(parser.document, sentence_count)\n",
    "for sentence in summary_4:\n",
    "    print(sentence)"
   ]
  },
  {
   "cell_type": "code",
   "execution_count": 31,
   "metadata": {},
   "outputs": [
    {
     "name": "stdout",
     "output_type": "stream",
     "text": [
      "Mr. Dursley wondered.\n",
      "\"Harry.\n",
      "The cat was still there.\n",
      "\"It certainly seems so,\" said Dumbledore.\n",
      "\"Yes,\" said Professor McGonagall.\n"
     ]
    }
   ],
   "source": [
    "from sumy.summarizers.sum_basic import SumBasicSummarizer\n",
    "summarizer_5 = SumBasicSummarizer(Stemmer(language))\n",
    "summarizer_5.stop_words = get_stop_words(language)\n",
    "summary_5 = summarizer_5(parser.document, 5)\n",
    "for sentence in summary_5:\n",
    "    print(sentence)"
   ]
  },
  {
   "cell_type": "code",
   "execution_count": 32,
   "metadata": {},
   "outputs": [
    {
     "name": "stdout",
     "output_type": "stream",
     "text": [
      "It was on the corner of the street that he noticed the first sign of something peculiar — a cat reading a map.\n",
      "It grew steadily louder as they looked up and down the street for some sign of a headlight; it swelled to a roar as they both looked up at the sky — and a huge motorcycle fell out of the air and landed on the road in front of them.\n",
      "He looked simply too big to be allowed, and so wild — long tangles of bushy black hair and beard hid most of his face, he had hands the size of trash can lids, and his feet in their leather boots were like baby dolphins.\n",
      "\"But I c-c-can't stand it — Lily an' James dead — an' poor little Harry off ter live with Muggles —\" \"Yes, yes, it's all very sad, but get a grip on yourself, Hagrid, or we'll be found,\" Professor McGonagall whispered, patting Hagrid gingerly on the arm as Dumbledore stepped over the low garden wall and walked to the front door.\n",
      "He clicked it once, and twelve balls of light sped back to their street lamps so that Privet Drive glowed suddenly orange and he could make out a tabby cat slinking around the corner at the other end of the street.\n"
     ]
    }
   ],
   "source": [
    "from sumy.summarizers.kl import KLSummarizer\n",
    "summarizer_6 = KLSummarizer(Stemmer(language))\n",
    "summarizer_6.stop_words = get_stop_words(language)\n",
    "summary_6 = summarizer_6(parser.document, sentence_count)\n",
    "for sentence in summary_6:\n",
    "    print(sentence)"
   ]
  },
  {
   "cell_type": "code",
   "execution_count": 33,
   "metadata": {},
   "outputs": [
    {
     "name": "stdout",
     "output_type": "stream",
     "text": [
      "Mrs. Potter was Mrs. Dursley's sister, but they hadn't met for several years; in fact, Mrs. Dursley pretended she didn't have a sister, because her sister and her good-for-nothing husband were as unDursleyish as it was possible to be.\n",
      "It seemed that Professor McGonagall had reached the point she was most anxious to discuss, the real reason she had been waiting on a cold, hard wall all day, for neither as a cat nor as a woman had she fixed Dumbledore with such a piercing stare as she did now.\n",
      "Dumbledore took Harry in his arms and turned toward the Dursleys' house.\n",
      "\"But I c-c-can't stand it — Lily an' James dead — an' poor little Harry off ter live with Muggles —\" \"Yes, yes, it's all very sad, but get a grip on yourself, Hagrid, or we'll be found,\" Professor McGonagall whispered, patting Hagrid gingerly on the arm as Dumbledore stepped over the low garden wall and walked to the front door.\n",
      "G'night, Professor McGonagall — Professor Dumbledore, sir.\"\n"
     ]
    }
   ],
   "source": [
    "from sumy.summarizers.reduction import ReductionSummarizer\n",
    "summarizer_7 = ReductionSummarizer(Stemmer(language))\n",
    "summarizer_7.stop_words = get_stop_words(language)\n",
    "summary_7 = summarizer_7(parser.document, sentence_count)\n",
    "for sentence in summary_7:\n",
    "    print(sentence)"
   ]
  },
  {
   "cell_type": "code",
   "execution_count": 34,
   "metadata": {},
   "outputs": [],
   "source": [
    "from sumy.summarizers.lex_rank import LexRankSummarizer \n",
    "from sumy.summarizers.luhn import LuhnSummarizer\n",
    "from sumy.summarizers.lsa import LsaSummarizer\n",
    "from sumy.summarizers.text_rank import TextRankSummarizer\n",
    "from sumy.summarizers.edmundson import EdmundsonSummarizer\n",
    "from sumy.summarizers.sum_basic import SumBasicSummarizer\n",
    "from sumy.summarizers.kl import KLSummarizer\n",
    "from sumy.summarizers.reduction import ReductionSummarizer"
   ]
  },
  {
   "cell_type": "code",
   "execution_count": 35,
   "metadata": {},
   "outputs": [],
   "source": [
    "def summarize(text, summarizer, sentence_count, language='english'):\n",
    "    summarizer = summarizer(Stemmer(language))\n",
    "    summarizer.stop_words = get_stop_words(language)\n",
    "    if isinstance(summarizer, EdmundsonSummarizer):\n",
    "        summarizer.bonus_words = hp['hp1']['Chapter 1'][0].split()\n",
    "        summarizer.stigma_words = ('and', 'the')\n",
    "        summarizer.null_words = ('and', 'the')\n",
    "    summary = summarizer(PlaintextParser(text, Tokenizer(language)).document, sentence_count)\n",
    "    return summary"
   ]
  },
  {
   "cell_type": "code",
   "execution_count": 36,
   "metadata": {},
   "outputs": [],
   "source": [
    "def print_summary(summary):\n",
    "    for sentence in summary:\n",
    "        print(sentence)"
   ]
  },
  {
   "cell_type": "code",
   "execution_count": 37,
   "metadata": {},
   "outputs": [
    {
     "name": "stdout",
     "output_type": "stream",
     "text": [
      "----LexRankSummarizer----\n",
      "\"The Potters, that's right, that's what I heard —\" \"— yes, their son, Harry —\" Mr. Dursley stopped dead.\n",
      "Twelve times he clicked the Put-Outer, until the only lights left on the whole street were two tiny pinpricks in the distance, which were the eyes of the cat watching him.\n",
      "Dumbledore slipped the Put-Outer back inside his cloak and set off down the street toward number four, where he sat down on the wall next to the cat.\n",
      "\"But I c-c-can't stand it — Lily an' James dead — an' poor little Harry off ter live with Muggles —\" \"Yes, yes, it's all very sad, but get a grip on yourself, Hagrid, or we'll be found,\" Professor McGonagall whispered, patting Hagrid gingerly on the arm as Dumbledore stepped over the low garden wall and walked to the front door.\n",
      "Dumbledore turned and walked back down the street.\n",
      "\n",
      "----LuhnSummarizer----\n",
      "It was now reading the sign that said Privet Drive — no, looking at the sign; cats couldn't read maps or signs.\n",
      "He didn't see the owls swoop- ing past in broad daylight, though people down in the street did; they pointed and gazed open-mouthed as owl after owl sped overhead.\n",
      "No one knows why, or how, but they're saying that when he couldn't kill Harry Potter, Voldemort's power somehow broke — and that's why he's gone.\"\n",
      "\"But I c-c-can't stand it — Lily an' James dead — an' poor little Harry off ter live with Muggles —\" \"Yes, yes, it's all very sad, but get a grip on yourself, Hagrid, or we'll be found,\" Professor McGonagall whispered, patting Hagrid gingerly on the arm as Dumbledore stepped over the low garden wall and walked to the front door.\n",
      "G'night, Professor McGonagall — Professor Dumbledore, sir.\"\n",
      "\n",
      "----LsaSummarizer----\n",
      "He dashed back across the road, hurried up to his office, snapped at his secretary not to disturb him, seized his telephone, and had almost finished dialing his home number when he changed his mind.\n",
      "It seemed that Professor McGonagall had reached the point she was most anxious to discuss, the real reason she had been waiting on a cold, hard wall all day, for neither as a cat nor as a woman had she fixed Dumbledore with such a piercing stare as she did now.\n",
      "He looked simply too big to be allowed, and so wild — long tangles of bushy black hair and beard hid most of his face, he had hands the size of trash can lids, and his feet in their leather boots were like baby dolphins.\n",
      "For a full minute the three of them stood and looked at the little bundle; Hagrid's shoulders shook, Professor McGonagall blinked furiously, and the twinkling light that usually shone from Dumbledore's eyes seemed to have gone out.\n",
      "A breeze ruffled the neat hedges of Privet Drive, which lay silent and tidy under the inky sky, the very last place you would expect astonishing things to happen.\n",
      "\n",
      "----TextRankSummarizer----\n"
     ]
    },
    {
     "name": "stderr",
     "output_type": "stream",
     "text": [
      "/anaconda3/lib/python3.6/site-packages/sumy/summarizers/text_rank.py:68: RuntimeWarning: invalid value encountered in true_divide\n",
      "  weights /= weights.sum(axis=1)[:, numpy.newaxis]\n"
     ]
    },
    {
     "name": "stdout",
     "output_type": "stream",
     "text": [
      "Mr. and Mrs. Dursley, of number four, Privet Drive, were proud to say that they were perfectly normal, thank you very much.\n",
      "They were the last people you'd expect to be involved in anything strange or mysterious, because they just didn't hold with such nonsense.\n",
      "Mr. Dursley was the director of a firm called Grunnings, which made drills.\n",
      "He was a big, beefy man with hardly any neck, although he did have a very large mustache.\n",
      "Mrs. Dursley was thin and blonde and had nearly twice the usual amount of neck, which came in very useful as she spent so much of her time craning over garden fences, spying on the neighbors.\n",
      "\n",
      "----EdmundsonSummarizer----\n",
      "This boy was another good reason for keeping the Potters away; they didn't want Dudley mixing with a child like that.\n",
      "Mr. Dursley couldn't bear people who dressed in funny clothes — the getups you saw on young people!\n",
      "He was sure there were lots of people called Potter who had a son called Harry.\n",
      "\"You don't mean — you can't mean the people who live here?\"\n",
      "He couldn't know that at this very moment, people meeting in secret all over the country were holding up their glasses and saying in hushed voices: \"To Harry Potter — the boy who lived!\"\n",
      "\n",
      "----SumBasicSummarizer----\n",
      "Mr. Dursley wondered.\n",
      "\"Harry.\n",
      "The cat was still there.\n",
      "\"It certainly seems so,\" said Dumbledore.\n",
      "\"Yes,\" said Professor McGonagall.\n",
      "\n",
      "----KLSummarizer----\n",
      "It was on the corner of the street that he noticed the first sign of something peculiar — a cat reading a map.\n",
      "It grew steadily louder as they looked up and down the street for some sign of a headlight; it swelled to a roar as they both looked up at the sky — and a huge motorcycle fell out of the air and landed on the road in front of them.\n",
      "He looked simply too big to be allowed, and so wild — long tangles of bushy black hair and beard hid most of his face, he had hands the size of trash can lids, and his feet in their leather boots were like baby dolphins.\n",
      "\"But I c-c-can't stand it — Lily an' James dead — an' poor little Harry off ter live with Muggles —\" \"Yes, yes, it's all very sad, but get a grip on yourself, Hagrid, or we'll be found,\" Professor McGonagall whispered, patting Hagrid gingerly on the arm as Dumbledore stepped over the low garden wall and walked to the front door.\n",
      "He clicked it once, and twelve balls of light sped back to their street lamps so that Privet Drive glowed suddenly orange and he could make out a tabby cat slinking around the corner at the other end of the street.\n",
      "\n",
      "----ReductionSummarizer----\n",
      "Mrs. Potter was Mrs. Dursley's sister, but they hadn't met for several years; in fact, Mrs. Dursley pretended she didn't have a sister, because her sister and her good-for-nothing husband were as unDursleyish as it was possible to be.\n",
      "It seemed that Professor McGonagall had reached the point she was most anxious to discuss, the real reason she had been waiting on a cold, hard wall all day, for neither as a cat nor as a woman had she fixed Dumbledore with such a piercing stare as she did now.\n",
      "Dumbledore took Harry in his arms and turned toward the Dursleys' house.\n",
      "\"But I c-c-can't stand it — Lily an' James dead — an' poor little Harry off ter live with Muggles —\" \"Yes, yes, it's all very sad, but get a grip on yourself, Hagrid, or we'll be found,\" Professor McGonagall whispered, patting Hagrid gingerly on the arm as Dumbledore stepped over the low garden wall and walked to the front door.\n",
      "G'night, Professor McGonagall — Professor Dumbledore, sir.\"\n",
      "\n"
     ]
    }
   ],
   "source": [
    "for summarizer in [LexRankSummarizer, LuhnSummarizer, LsaSummarizer, TextRankSummarizer,\n",
    "                   EdmundsonSummarizer, SumBasicSummarizer, KLSummarizer, ReductionSummarizer]:\n",
    "    print('----' + summarizer.__name__ + '----')\n",
    "    print_summary(summarize(hp['hp1']['Chapter 1'][1], summarizer, sentence_count))\n",
    "    print()"
   ]
  },
  {
   "cell_type": "code",
   "execution_count": 38,
   "metadata": {},
   "outputs": [
    {
     "name": "stdout",
     "output_type": "stream",
     "text": [
      "\"You don't mean — you can't mean the people who live here?\"\n",
      "He couldn't know that at this very moment, people meeting in secret all over the country were holding up their glasses and saying in hushed voices: \"To Harry Potter — the boy who lived!\"\n",
      "The room held no sign at all that another boy lived in the house, too.\n",
      "Every year, Harry was left behind with Mrs. Figg, a mad old lady who lived two streets away.\n",
      "No one, ever, in his whole life, had written to him.\n",
      "The Dursleys' house had four bedrooms: one for Uncle Vernon and Aunt Petunia, one for visitors (usually Uncle Vernon's sister, Marge), one where Dudley slept, and one where Dudley kept all the toys and things that wouldn't fit into his first bedroom.\n",
      "of Wizards ) Dear Mr. Potter, We are pleased to inform you that you have been accepted at Hogwarts School of Witchcraft and Wizardry.\n",
      "Head boy an' girl at Hogwarts in their day!\n",
      "I don't see why first years can't have their own.\n",
      "\"I'm not sayin' that's not a good idea, but yer not ter use magic in the Muggle world except in very special circumstances,\" said Hagrid.\n",
      "Platform nine — platform ten.\n",
      "Underneath the picture was the name Albus Dumbledore.\n",
      "\"The four Houses are called Gryffindor, Hufflepuff, Ravenclaw, and Slytherin.\n",
      "\"Hope to see you in Hufflepuff!\"\n",
      "Investigations continue into the break-in at Gringotts on 31 July, widely believed to be the work of Dark wizards or witches unknown.\n",
      "Gringotts goblins today insisted that nothing had been taken.\n",
      "Harry had never believed he would meet a boy he hated more than Dudley, but that was before he met Draco Malfoy.\n",
      "\"Typical,\" said Harry darkly.\n",
      "\"A Nimbus Two Thousand, sir,\" said Harry, fighting not to laugh at the look of horror on Malfoy's face.\n",
      "\"Yes, don't stop now,\" said Ron, \"it's doing us so much good.\"\n",
      "\"Seekers are always the ones who get clobbered by the other team.\"\n",
      "\"In soccer you get shown the red card and you're out of the game!\"\n",
      "\"Are you trying to earn some extra money, Weasley?\n",
      "Ronald Weasley, who has always been overshadowed by his brothers, sees himself standing alone, the best of all of them.\n",
      "Hermione, who had all her fingers crossed in her lap, was squinting fixedly at Harry, who was circling the game like a hawk, looking for the Snitch.\n",
      "See, there's Potter, who's got no parents, then there's the Weasleys, who've got no money — you should be on the team, Longbottom, you've got no brains.\"\n",
      "\"Hagrid,\" said Hermione, \"how fast do Norwegian Ridgebacks grow, exactly?\"\n",
      "Thanks for the letter — I'd be glad to take the Norwegian Ridgeback, but it won't be easy getting him here.\n",
      "Things couldn't have been worse.\n",
      "But I don't understand who —\" \"Can you think of nobody who has waited many years to return to power, who has clung to life, awaiting their chance?\"\n",
      "If I get caught before I can get to the Stone, well, I'll have to go back to the Dursleys and wait for Voldemort to find me there, it's only dying a bit later than I would have, because I'm never going over to the Dark Side!\n",
      "I'm going through that trapdoor tonight and nothing you two say is going to stop me!\n",
      "Where there should have been a back to Quirrell's head, there was a face, the most terrible face Harry had ever seen.\n",
      "Ron went purple in the face; he looked like a radish with a bad sunburn.\n"
     ]
    }
   ],
   "source": [
    "for chapter in hp['hp1']:\n",
    "    print_summary(summarize(hp['hp1'][chapter][1], EdmundsonSummarizer, 2))"
   ]
  },
  {
   "cell_type": "code",
   "execution_count": null,
   "metadata": {},
   "outputs": [],
   "source": []
  }
 ],
 "metadata": {
  "kernelspec": {
   "display_name": "Python 3",
   "language": "python",
   "name": "python3"
  },
  "language_info": {
   "codemirror_mode": {
    "name": "ipython",
    "version": 3
   },
   "file_extension": ".py",
   "mimetype": "text/x-python",
   "name": "python",
   "nbconvert_exporter": "python",
   "pygments_lexer": "ipython3",
   "version": "3.6.4"
  }
 },
 "nbformat": 4,
 "nbformat_minor": 2
}
